{
 "cells": [
  {
   "cell_type": "markdown",
   "id": "ec421a77-6ee0-44e2-ab2c-8206c34e2da5",
   "metadata": {},
   "source": [
    "# Using a Python implementation of the Flickr API"
   ]
  },
  {
   "cell_type": "markdown",
   "id": "543ac12b-f05d-4b1b-82c7-8f4bd46e2ad4",
   "metadata": {},
   "source": [
    "This notebook is for the Hack & Yack looking at the BL Flickr account and the Flickr Application Programming Interface (API) - a way of using programming languages to look at and edit the data on Flickr.\r\n",
    "\r\n",
    "\r\n",
    "The notebook uses the [flickr_api package](https://github.com/alexis-mignon/python-flickr-api/) and the BL Digital Research team's API keys. The notebook has examples looking at the Albums (photosets) available on our account, the tags on those photos, and includes the [DETR-Resnet-50](https://huggingface.co/facebook/detr-resnet-50) object detection model as an example of how we might generate more tags for our images."
   ]
  },
  {
   "cell_type": "code",
   "execution_count": null,
   "id": "2214431d-0cf9-4151-a268-410d5b962391",
   "metadata": {},
   "outputs": [],
   "source": [
    "import sys\n",
    "if \"../\" not in sys.path:\n",
    "    sys.path.append(\"../\")\n",
    "import random\n",
    "import os\n",
    "\n",
    "import flickr_api\n",
    "import pandas as pd\n",
    "from PIL import Image\n",
    "import matplotlib.pyplot as plt\n",
    "from matplotlib.patches import Rectangle\n",
    "import requests\n",
    "from transformers import DetrImageProcessor, DetrForObjectDetection\n",
    "import torch"
   ]
  },
  {
   "cell_type": "markdown",
   "id": "d037553f-b8e8-494f-9c5f-efd030989a4d",
   "metadata": {},
   "source": [
    "## Flickr API authorisation"
   ]
  },
  {
   "cell_type": "markdown",
   "id": "410581b0-c207-47cb-bdf9-b53337503385",
   "metadata": {},
   "source": [
    "*** `key` and `secret` will be shared during the Hack & Yack ***"
   ]
  },
  {
   "cell_type": "code",
   "execution_count": null,
   "id": "706af4be-cca2-441b-9aca-1bd0ac27f202",
   "metadata": {},
   "outputs": [],
   "source": [
    "key = \"\"\n",
    "secret = \"\""
   ]
  },
  {
   "cell_type": "markdown",
   "id": "7040fb32-3821-47ae-9cd8-9f02adc26645",
   "metadata": {},
   "source": [
    "Follow the link printed below this cell and click \"OK, I'll authorize\". You will only have read access to the data so there's no risk of making accidental changes! This will take you to a page with some xml on. See below"
   ]
  },
  {
   "cell_type": "code",
   "execution_count": null,
   "id": "717e383f-cf6a-4a0e-bbbc-8ac1882be967",
   "metadata": {},
   "outputs": [],
   "source": [
    "flickr_api.set_keys(api_key=key, api_secret=secret)\n",
    "a = flickr_api.auth.AuthHandler() # creates a new AuthHandler object\n",
    "perms = \"read\" # set the required permissions\n",
    "url = a.get_authorization_url(perms)\n",
    "print(url) # this is the url we need!"
   ]
  },
  {
   "cell_type": "markdown",
   "id": "85a603df-9fa5-43e5-b87a-857bf74e3a69",
   "metadata": {},
   "source": [
    "The page you're redirected to will have xml on it like below. Copy the string in the oauth_verifier tag (normally at the bottom of the page).\r\n",
    "```xml\r\n",
    "<rsp stat=\"ok\">\r\n",
    "    <method>flickr.test.echo</method>\r\n",
    "    <api_[api_key]acea</api_key>\r\n",
    "    <oauth_t[oauth_token]a923d</oauth_token>\r\n",
    "    <oauth_verifier>[oauth_verifier]</oauth_verifier>\r\n",
    "</rsp>\r\n",
    "```"
   ]
  },
  {
   "cell_type": "code",
   "execution_count": null,
   "id": "3e595673-8cea-4d1e-b018-e504127d8981",
   "metadata": {},
   "outputs": [],
   "source": [
    "oauth_verifier = \"\"  # copy oauth_verifier string in between the speech marks\n",
    "a.set_verifier(oauth_verifier)\n",
    "flickr_api.set_auth_handler(a)"
   ]
  },
  {
   "cell_type": "markdown",
   "id": "244d22f6-4287-488a-99ca-8c574dc3844d",
   "metadata": {},
   "source": [
    "## Explore the API"
   ]
  },
  {
   "cell_type": "markdown",
   "id": "1609919e-8e1a-4e04-aff0-9e00728d52dc",
   "metadata": {},
   "source": [
    "Docs for the [Python implementation](https://github.com/alexis-mignon/python-flickr-api/wiki/API-Reference) of the API and for the [Flickr API](https://www.flickr.com/services/api/) itself."
   ]
  },
  {
   "cell_type": "code",
   "execution_count": null,
   "id": "82a15ea0-3a8c-4ff8-b0ef-fc2201988919",
   "metadata": {},
   "outputs": [],
   "source": [
    "# Check the auth has worked by getting info on the BL Flickr account\n",
    "user = flickr_api.Person.findByEmail(\"digitalresearch@bl.uk\")\n",
    "user"
   ]
  },
  {
   "cell_type": "code",
   "execution_count": null,
   "id": "e7fb4d9f-e599-45a7-a173-78d49257ff9e",
   "metadata": {},
   "outputs": [],
   "source": [
    "photosets = user.getPhotosets()"
   ]
  },
  {
   "cell_type": "code",
   "execution_count": null,
   "id": "fe6d3986-5761-4fe6-bdff-89bc6c59ca64",
   "metadata": {},
   "outputs": [],
   "source": [
    "# Living with Machines\n",
    "lwm_ps = photosets[0].getPhotos()\n",
    "photosets[0].getInfo()"
   ]
  },
  {
   "cell_type": "code",
   "execution_count": null,
   "id": "2c202845-01e9-4829-a4e8-5a160b3de380",
   "metadata": {},
   "outputs": [],
   "source": [
    "# Women of the World\n",
    "wow_ps = photosets[2].getPhotos()\n",
    "photosets[2].getInfo()"
   ]
  },
  {
   "cell_type": "code",
   "execution_count": null,
   "id": "2086d3af-a6bc-409f-a151-0b93e6ed98ee",
   "metadata": {},
   "outputs": [],
   "source": [
    "# Here's one I made earlier\n",
    "# A dataframe of the results of getInfo on all of our Albums/photosets\n",
    "info_df = pd.read_csv(\"../data/processed/photoset_info.csv\", index_col=\"id\")"
   ]
  },
  {
   "cell_type": "code",
   "execution_count": null,
   "id": "e0b532bb-0887-4c33-8e5f-91156e6559db",
   "metadata": {},
   "outputs": [],
   "source": [
    "info_df.head()"
   ]
  },
  {
   "cell_type": "markdown",
   "id": "8235ade6-77f2-40e5-93ee-2ed771ef3026",
   "metadata": {},
   "source": [
    "## Tags on BL photos"
   ]
  },
  {
   "cell_type": "markdown",
   "id": "bf50a1aa-c297-4a36-bf37-cb644f6ac717",
   "metadata": {},
   "source": [
    "Using the Women of the World album as an example"
   ]
  },
  {
   "cell_type": "code",
   "execution_count": null,
   "id": "faa3ff91-bdee-452b-a01a-60ef66d945b4",
   "metadata": {},
   "outputs": [],
   "source": [
    "wow_tags_df = pd.read_csv(\"../data/processed/wow_tags.csv\")\n",
    "wow_tags_df"
   ]
  },
  {
   "cell_type": "code",
   "execution_count": null,
   "id": "ea75e1b0-2853-4ac0-ab0e-02036edfbe37",
   "metadata": {},
   "outputs": [],
   "source": [
    "# sherlock_tags_df = wow_tags_df[wow_tags_df[\"tag\"].str.contains(\"sherlocknet\")].reset_index()\n",
    "\n",
    "# with open(\"..\\\\data\\\\external\\\\ofcom_bad_words.txt\", \"r\") as f:\n",
    "#     bad_words = f.readlines()\n",
    "#     bad_words = [x.strip(\"\\n\").lower() for x in bad_words][1:]\n",
    "\n",
    "# sherlock_tags_df[\"tag_val\"] = sherlock_tags_df[\"tag\"].apply(lambda x: x.split(\"=\")[1])\n",
    "# sherlock_tags_df[\"bad_word\"] = sherlock_tags_df[\"tag_val\"].apply(lambda x: x in bad_words)\n",
    "\n",
    "# sherlock_tags_df[sherlock_tags_df[\"bad_word\"]][\"tag_val\"].unique()"
   ]
  },
  {
   "cell_type": "markdown",
   "id": "17d61b17-cf36-4e4a-94a5-e4ef7fcc2457",
   "metadata": {},
   "source": [
    "e.g. BL URL to help find the photo a tag is attached to  \n",
    "https://www.flickr.com/photos/britishlibrary/11244481994"
   ]
  },
  {
   "cell_type": "markdown",
   "id": "7ed50d57-4125-4464-8155-7d91164a12d0",
   "metadata": {},
   "source": [
    "## DETR-Resnet-50"
   ]
  },
  {
   "cell_type": "markdown",
   "id": "d87e2440-0f25-4785-90ca-3e1ef4bbf1aa",
   "metadata": {},
   "source": [
    "Using the DETR-Resnet-50 model created by Facebook to try detecting objects in images from your chosen album"
   ]
  },
  {
   "cell_type": "markdown",
   "id": "e977ee55-4126-4454-a6d6-a7beb59f75cb",
   "metadata": {},
   "source": [
    "This will have to download the model, it will take a few moments"
   ]
  },
  {
   "cell_type": "code",
   "execution_count": null,
   "id": "33188fd2-43df-4353-a9df-287011dcb186",
   "metadata": {},
   "outputs": [],
   "source": [
    "processor = DetrImageProcessor.from_pretrained(\"facebook/detr-resnet-50\", revision=\"no_timm\")\n",
    "model = DetrForObjectDetection.from_pretrained(\"facebook/detr-resnet-50\", revision=\"no_timm\")"
   ]
  },
  {
   "cell_type": "code",
   "execution_count": null,
   "id": "b3dd207f-4e86-4f57-b7f6-9183fc01974e",
   "metadata": {},
   "outputs": [],
   "source": [
    "def to_rectangle(xy, w, h):\n",
    "    c = \"#{:06x}\".format(int(random.random() * 0xffffff))\n",
    "    p = Rectangle(xy, w, h, ec=c, fill=False)\n",
    "    return p\n",
    "\n",
    "def draw_labelled_box(ax, box, label, score):\n",
    "    xy = (box[0], box[1])\n",
    "    w, h = box[2] - box[0], box[3] - box[1]\n",
    "    rct = to_rectangle(xy, w, h)\n",
    "    ax.add_patch(rct)\n",
    "    ax.text(box[0] + 0.01*w, box[1] + 0.03*h, s=f\"{label} {score}\", backgroundcolor=\"white\", va='top')"
   ]
  },
  {
   "cell_type": "code",
   "execution_count": null,
   "id": "0c4507d3-4d03-4570-ac76-c288eefcee80",
   "metadata": {},
   "outputs": [],
   "source": [
    "url = wow_ps[0].getPhotoFile(size_label=\"Medium\")\n",
    "image = Image.open(requests.get(url, stream=True).raw)\n",
    "image"
   ]
  },
  {
   "cell_type": "markdown",
   "id": "6feb2892-8a95-4066-b69d-db0facb9e460",
   "metadata": {},
   "source": [
    "This is the actual processing it might take a minute or two"
   ]
  },
  {
   "cell_type": "code",
   "execution_count": null,
   "id": "48df17db-d675-40a5-b863-1cd6d60a0b64",
   "metadata": {},
   "outputs": [],
   "source": [
    "inputs = processor(images=image, return_tensors=\"pt\")\n",
    "outputs = model(**inputs)"
   ]
  },
  {
   "cell_type": "code",
   "execution_count": null,
   "id": "77cea12c-faac-421d-ab11-2b4aaee26146",
   "metadata": {},
   "outputs": [],
   "source": [
    "# convert outputs (bounding boxes and class logits) to COCO API\n",
    "# let's only keep detections with score > 0.9\n",
    "target_sizes = torch.tensor([image.size[::-1]])\n",
    "results = processor.post_process_object_detection(outputs, target_sizes=target_sizes, threshold=0.5)[0]"
   ]
  },
  {
   "cell_type": "code",
   "execution_count": null,
   "id": "8ba964b7-fe44-40d8-8d82-6d9ae0e6665f",
   "metadata": {},
   "outputs": [],
   "source": [
    "fig, ax = plt.subplots(figsize=(12,12), subplot_kw={\"frameon\": False})\n",
    "ax.imshow(image)\n",
    "ax.set_axis_off()\n",
    "\n",
    "for score, label, box in zip(results[\"scores\"], results[\"labels\"], results[\"boxes\"]):\n",
    "    box = [round(i, 2) for i in box.tolist()]\n",
    "    label_text = model.config.id2label[label.item()]\n",
    "    score_val = round(score.item(), 3)\n",
    "    print(f\"Detected {label_text} with confidence {score_val} at location {box}\")\n",
    "    draw_labelled_box(ax, box, label_text, score_val)"
   ]
  }
 ],
 "metadata": {
  "kernelspec": {
   "display_name": "Python [conda env:flickr-ml]",
   "language": "python",
   "name": "conda-env-flickr-ml-py"
  },
  "language_info": {
   "codemirror_mode": {
    "name": "ipython",
    "version": 3
   },
   "file_extension": ".py",
   "mimetype": "text/x-python",
   "name": "python",
   "nbconvert_exporter": "python",
   "pygments_lexer": "ipython3",
   "version": "3.11.6"
  }
 },
 "nbformat": 4,
 "nbformat_minor": 5
}
