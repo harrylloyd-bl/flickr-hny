{
 "cells": [
  {
   "cell_type": "markdown",
   "id": "ec421a77-6ee0-44e2-ab2c-8206c34e2da5",
   "metadata": {},
   "source": [
    "# Using a Python implementation of the Flickr API"
   ]
  },
  {
   "cell_type": "markdown",
   "id": "543ac12b-f05d-4b1b-82c7-8f4bd46e2ad4",
   "metadata": {},
   "source": [
    "This notebook uses the [flickr_api package](https://github.com/alexis-mignon/python-flickr-api/) and the BL Digital Research team's API keys. Provides access to the Albums (photosets) available on our account, the tags on those photos, and the [DETR-Resnet-50](https://huggingface.co/facebook/detr-resnet-50) model for detecting objects in images."
   ]
  },
  {
   "cell_type": "code",
   "execution_count": null,
   "id": "2214431d-0cf9-4151-a268-410d5b962391",
   "metadata": {},
   "outputs": [],
   "source": [
    "import sys\n",
    "if \"../\" not in sys.path:\n",
    "    sys.path.append(\"../\")\n",
    "import random\n",
    "import os\n",
    "\n",
    "import flickr_api\n",
    "import pandas as pd\n",
    "from PIL import Image\n",
    "import matplotlib.pyplot as plt\n",
    "from matplotlib.patches import Rectangle\n",
    "import requests\n",
    "from transformers import DetrImageProcessor, DetrForObjectDetection\n",
    "import torch"
   ]
  },
  {
   "cell_type": "code",
   "execution_count": null,
   "id": "717e383f-cf6a-4a0e-bbbc-8ac1882be967",
   "metadata": {},
   "outputs": [],
   "source": [
    "# a = flickr_api.auth.AuthHandler() # creates a new AuthHandler object\n",
    "# perms = \"read\" # set the required permissions\n",
    "# url = a.get_authorization_url(perms)\n",
    "# print(url) # this is the url we need!\n",
    "\n",
    "# a.set_verifier(\"8638b6801bd2ac7e\")\n",
    "# flickr_api.set_auth_handler(a)\n",
    "\n",
    "# a.save(\"..\\\\flickr_api_session.txt\")"
   ]
  },
  {
   "cell_type": "code",
   "execution_count": null,
   "id": "3e595673-8cea-4d1e-b018-e504127d8981",
   "metadata": {},
   "outputs": [],
   "source": [
    "flickr_api.set_auth_handler(\"..\\\\flickr_api_session_auth.txt\") # or whatever you save your auth file as"
   ]
  },
  {
   "cell_type": "code",
   "execution_count": null,
   "id": "82a15ea0-3a8c-4ff8-b0ef-fc2201988919",
   "metadata": {},
   "outputs": [],
   "source": [
    "user = flickr_api.Person.findByEmail(\"digitalresearch@bl.uk\")"
   ]
  },
  {
   "cell_type": "code",
   "execution_count": null,
   "id": "e7fb4d9f-e599-45a7-a173-78d49257ff9e",
   "metadata": {},
   "outputs": [],
   "source": [
    "photosets = []\n",
    "\n",
    "for x in range(1, 4):\n",
    "    photosets.extend(user.getPhotosets(page=x))"
   ]
  },
  {
   "cell_type": "code",
   "execution_count": null,
   "id": "0ed9bd3c-a629-475a-873c-ce4662e628af",
   "metadata": {},
   "outputs": [],
   "source": [
    "# info = []\n",
    "# for ps in photosets:\n",
    "#     try:\n",
    "#         info.append(ps.getInfo())\n",
    "#     except flickr_api.flickrerrors.FlickrServerError:\n",
    "#         info.append(None)\n",
    "#     except TimeoutError:\n",
    "#         info.append(None)\n",
    "\n",
    "# info_df = pd.DataFrame.from_records(info).set_index(\"id\")\n",
    "# info_df.to_csv(\"..\\\\data\\\\processed\\\\photoset_info.csv\")"
   ]
  },
  {
   "cell_type": "markdown",
   "id": "ec845571-8ce0-4495-aad5-d2a90558d948",
   "metadata": {},
   "source": [
    "## Info on all the Albums (=photosets) available on the BL account"
   ]
  },
  {
   "cell_type": "code",
   "execution_count": null,
   "id": "cb4c700d-1220-4ba8-b193-54c5dfa8263c",
   "metadata": {},
   "outputs": [],
   "source": [
    "info_df = pd.read_csv(\"..\\\\data\\\\processed\\\\photoset_info.csv\", index_col=\"id\")"
   ]
  },
  {
   "cell_type": "code",
   "execution_count": null,
   "id": "fede26f8-44c2-4f06-a0d4-bb431fc0bb3c",
   "metadata": {},
   "outputs": [],
   "source": [
    "info_df.head(5)"
   ]
  },
  {
   "cell_type": "code",
   "execution_count": null,
   "id": "f8b312dd-dfb3-4d20-b06c-eb32cf974a57",
   "metadata": {},
   "outputs": [],
   "source": [
    "# LwM\n",
    "lwm_ps = photosets[0].getPhotos()"
   ]
  },
  {
   "cell_type": "code",
   "execution_count": null,
   "id": "130300bf-0cae-4c81-a0c7-48b84d8e2ee6",
   "metadata": {},
   "outputs": [],
   "source": [
    "# Women of the World\n",
    "wow_ps = photosets[2].getPhotos()"
   ]
  },
  {
   "cell_type": "code",
   "execution_count": null,
   "id": "acce3dec-e295-4c74-a3d4-94d85e528a2c",
   "metadata": {},
   "outputs": [],
   "source": [
    "# Book Illustrations\n",
    "book_illus_ps = photosets[4].getPhotos(page=1)"
   ]
  },
  {
   "cell_type": "markdown",
   "id": "8235ade6-77f2-40e5-93ee-2ed771ef3026",
   "metadata": {},
   "source": [
    "## Tags on BL photos"
   ]
  },
  {
   "cell_type": "markdown",
   "id": "bf50a1aa-c297-4a36-bf37-cb644f6ac717",
   "metadata": {},
   "source": [
    "Using the Women of the World album as an example"
   ]
  },
  {
   "cell_type": "code",
   "execution_count": null,
   "id": "51979579-9f6e-4f76-b1bf-c5ceb3b0575a",
   "metadata": {},
   "outputs": [],
   "source": [
    "# wow_tags = [x.getTags() for x in wow_ps]\n",
    "# wow_tags_text = {ps.getPhotoUrl():[x.text for x in ts] for ts, ps in zip(wow_tags, wow_ps)}\n",
    "# photo_ids = [os.path.basename(x[:-9]) for x in list(wow_tags_text.keys())]\n",
    "# wow_tags_idxed = {id: tags for id, tags in zip(photo_ids, wow_tags_text.values())}\n",
    "# wow_tags_dfs = [pd.DataFrame(data={\"id\":x, \"tag\":tags}) for x, tags in enumerate(wow_tags_idxed.values())]\n",
    "# wow_tags_df = pd.concat(wow_tags_dfs)\n",
    "# # wow_tags_df.to_csv(\"..\\\\data\\\\processed\\\\wow_tags.csv\", index=False)"
   ]
  },
  {
   "cell_type": "code",
   "execution_count": null,
   "id": "64e3208f-a453-495c-96f3-095ccd731d52",
   "metadata": {},
   "outputs": [],
   "source": [
    "wow_tags_df = pd.read_csv(\"..\\\\data\\\\processed\\\\wow_tags.csv\")"
   ]
  },
  {
   "cell_type": "code",
   "execution_count": null,
   "id": "faa3ff91-bdee-452b-a01a-60ef66d945b4",
   "metadata": {},
   "outputs": [],
   "source": [
    "wow_tags_df"
   ]
  },
  {
   "cell_type": "code",
   "execution_count": null,
   "id": "ea75e1b0-2853-4ac0-ab0e-02036edfbe37",
   "metadata": {},
   "outputs": [],
   "source": [
    "# sherlock_tags_df = wow_tags_df[wow_tags_df[\"tag\"].str.contains(\"sherlocknet\")].reset_index()\n",
    "\n",
    "# with open(\"..\\\\data\\\\external\\\\ofcom_bad_words.txt\", \"r\") as f:\n",
    "#     bad_words = f.readlines()\n",
    "#     bad_words = [x.strip(\"\\n\").lower() for x in bad_words][1:]\n",
    "\n",
    "# sherlock_tags_df[\"tag_val\"] = sherlock_tags_df[\"tag\"].apply(lambda x: x.split(\"=\")[1])\n",
    "# sherlock_tags_df[\"bad_word\"] = sherlock_tags_df[\"tag_val\"].apply(lambda x: x in bad_words)\n",
    "\n",
    "# sherlock_tags_df[sherlock_tags_df[\"bad_word\"]][\"tag_val\"].unique()"
   ]
  },
  {
   "cell_type": "markdown",
   "id": "17d61b17-cf36-4e4a-94a5-e4ef7fcc2457",
   "metadata": {},
   "source": [
    "e.g. BL URL to help find the photo a tag is attached to  \n",
    "https://www.flickr.com/photos/britishlibrary/11244481994"
   ]
  },
  {
   "cell_type": "markdown",
   "id": "7ed50d57-4125-4464-8155-7d91164a12d0",
   "metadata": {},
   "source": [
    "## DETR-Resnet-50"
   ]
  },
  {
   "cell_type": "markdown",
   "id": "d87e2440-0f25-4785-90ca-3e1ef4bbf1aa",
   "metadata": {},
   "source": [
    "Using the DETR-Resnet-50 model created by Facebook to try detecting objects in images from your chosen album"
   ]
  },
  {
   "cell_type": "code",
   "execution_count": null,
   "id": "33188fd2-43df-4353-a9df-287011dcb186",
   "metadata": {},
   "outputs": [],
   "source": [
    "processor = DetrImageProcessor.from_pretrained(\"facebook/detr-resnet-50\", revision=\"no_timm\")\n",
    "model = DetrForObjectDetection.from_pretrained(\"facebook/detr-resnet-50\", revision=\"no_timm\")"
   ]
  },
  {
   "cell_type": "code",
   "execution_count": null,
   "id": "b3dd207f-4e86-4f57-b7f6-9183fc01974e",
   "metadata": {},
   "outputs": [],
   "source": [
    "def to_rectangle(xy, w, h):\n",
    "    c = \"#{:06x}\".format(int(random.random() * 0xffffff))\n",
    "    p = Rectangle(xy, w, h, ec=c, fill=False)\n",
    "    return p\n",
    "\n",
    "def draw_labelled_box(ax, box, label, score):\n",
    "    xy = (box[0], box[1])\n",
    "    w, h = box[2] - box[0], box[3] - box[1]\n",
    "    rct = to_rectangle(xy, w, h)\n",
    "    ax.add_patch(rct)\n",
    "    ax.text(box[0] + 0.01*w, box[1] + 0.03*h, s=f\"{label} {score}\", backgroundcolor=\"white\", va='top')"
   ]
  },
  {
   "cell_type": "code",
   "execution_count": null,
   "id": "0c4507d3-4d03-4570-ac76-c288eefcee80",
   "metadata": {},
   "outputs": [],
   "source": [
    "url = wow_ps[0].getPhotoFile(size_label=\"Medium\")\n",
    "image = Image.open(requests.get(url, stream=True).raw)\n",
    "image"
   ]
  },
  {
   "cell_type": "code",
   "execution_count": null,
   "id": "48df17db-d675-40a5-b863-1cd6d60a0b64",
   "metadata": {},
   "outputs": [],
   "source": [
    "inputs = processor(images=image, return_tensors=\"pt\")\n",
    "outputs = model(**inputs)"
   ]
  },
  {
   "cell_type": "code",
   "execution_count": null,
   "id": "77cea12c-faac-421d-ab11-2b4aaee26146",
   "metadata": {},
   "outputs": [],
   "source": [
    "# convert outputs (bounding boxes and class logits) to COCO API\n",
    "# let's only keep detections with score > 0.9\n",
    "target_sizes = torch.tensor([image.size[::-1]])\n",
    "results = processor.post_process_object_detection(outputs, target_sizes=target_sizes, threshold=0.5)[0]"
   ]
  },
  {
   "cell_type": "code",
   "execution_count": null,
   "id": "8ba964b7-fe44-40d8-8d82-6d9ae0e6665f",
   "metadata": {},
   "outputs": [],
   "source": [
    "fig, ax = plt.subplots(figsize=(12,12), subplot_kw={\"frameon\": False})\n",
    "ax.imshow(image)\n",
    "ax.set_axis_off()\n",
    "\n",
    "for score, label, box in zip(results[\"scores\"], results[\"labels\"], results[\"boxes\"]):\n",
    "    box = [round(i, 2) for i in box.tolist()]\n",
    "    label_text = model.config.id2label[label.item()]\n",
    "    score_val = round(score.item(), 3)\n",
    "    print(f\"Detected {label_text} with confidence {score_val} at location {box}\")\n",
    "    draw_labelled_box(ax, box, label_text, score_val)"
   ]
  }
 ],
 "metadata": {
  "kernelspec": {
   "display_name": "Python [conda env:flickr-ml]",
   "language": "python",
   "name": "conda-env-flickr-ml-py"
  },
  "language_info": {
   "codemirror_mode": {
    "name": "ipython",
    "version": 3
   },
   "file_extension": ".py",
   "mimetype": "text/x-python",
   "name": "python",
   "nbconvert_exporter": "python",
   "pygments_lexer": "ipython3",
   "version": "3.11.6"
  }
 },
 "nbformat": 4,
 "nbformat_minor": 5
}
